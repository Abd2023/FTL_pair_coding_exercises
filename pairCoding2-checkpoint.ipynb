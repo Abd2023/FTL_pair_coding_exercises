{
 "cells": [
  {
   "cell_type": "markdown",
   "id": "8c0c2dfa-cce2-414c-be12-e927f86b6d2f",
   "metadata": {},
   "source": [
    "I- Python OOP\n",
    "1. Write a Python program to create a class representing a circle. Include\n",
    "methods to calculate its area and perimeter."
   ]
  },
  {
   "cell_type": "code",
   "execution_count": 4,
   "id": "274f300a-915c-49da-9201-562504acb8ce",
   "metadata": {},
   "outputs": [
    {
     "name": "stdout",
     "output_type": "stream",
     "text": [
      "78.53981633974483\n",
      "31.41592653589793\n"
     ]
    }
   ],
   "source": [
    "import math\n",
    "\n",
    "\n",
    "class Circle:\n",
    "    def __init__(self, r):\n",
    "        self.r = r\n",
    "\n",
    "    def area(self):\n",
    "        return math.pi * self.r * self.r\n",
    "\n",
    "    def preimeter(self):\n",
    "        return 2 * math.pi * self.r\n",
    "\n",
    "\n",
    "circle = Circle(5)\n",
    "\n",
    "print(circle.area())\n",
    "print(circle.preimeter())        "
   ]
  },
  {
   "cell_type": "markdown",
   "id": "0377a9a9-8599-4db2-b61a-b16f8a4adc0f",
   "metadata": {},
   "source": [
    "2. Write a Python program to create a calculator class. Include methods for basic\n",
    "arithmetic operations."
   ]
  },
  {
   "cell_type": "code",
   "execution_count": 10,
   "id": "c152c9f5-5691-43e3-8efa-627ce0bef817",
   "metadata": {},
   "outputs": [
    {
     "name": "stdout",
     "output_type": "stream",
     "text": [
      "7\n",
      "-3\n",
      "10\n",
      "0.4\n"
     ]
    }
   ],
   "source": [
    "class Calculator:\n",
    "    \n",
    "    def sum(self, firstNum, secNum):\n",
    "        return firstNum + secNum\n",
    "\n",
    "    def subtrac(self, firstNum, secNum):\n",
    "        return firstNum - secNum\n",
    "\n",
    "    def multiplication(self, firstNum, secNum):\n",
    "        return firstNum * secNum\n",
    "\n",
    "    def division(self, firstNum, secNum):\n",
    "        return firstNum / secNum\n",
    "\n",
    "\n",
    "calculate = Calculator()\n",
    "\n",
    "print(calculate.sum(2, 5))\n",
    "print(calculate.subtrac(2, 5))\n",
    "print(calculate.multiplication(2, 5))\n",
    "print(calculate.division(2, 5))"
   ]
  },
  {
   "cell_type": "markdown",
   "id": "4526aa08-5cc2-4206-a85f-362e09a4e9a7",
   "metadata": {},
   "source": [
    "3. Write a Python program to create a person class. Include attributes such as\n",
    "name, country, and date of birth. Implement a method to determine the\n",
    "person's age."
   ]
  },
  {
   "cell_type": "code",
   "execution_count": 13,
   "id": "a06a6d9e-565d-4b2e-ab6d-fd34b232562b",
   "metadata": {},
   "outputs": [
    {
     "name": "stdout",
     "output_type": "stream",
     "text": [
      "24\n"
     ]
    }
   ],
   "source": [
    "from datetime import datetime \n",
    "\n",
    "class Person:\n",
    "    def __init__(self, name, country, dateOfBirth):\n",
    "        self.name = name\n",
    "        self.country = country\n",
    "        self.dateOfBirth = dateOfBirth\n",
    "\n",
    "\n",
    "    def personAge(self):\n",
    "        return datetime.now().year - self.dateOfBirth\n",
    "\n",
    "\n",
    "person = Person(\"ahmet\", \"Afganistan\", 2000)\n",
    "result = person.personAge()\n",
    "print(result)"
   ]
  },
  {
   "cell_type": "markdown",
   "id": "648a9c04-d4d8-461f-8c51-f2f973f9f529",
   "metadata": {},
   "source": [
    "II- API Call With Python\n",
    "In this task, you will make an API call using Python. Api_key and the website address will be provided to\n",
    "you. api_key= '010858a3a88847f1a4154131242207'\n",
    "\n",
    "Web address= \" http://api.weatherapi.com/v1/current.json\"\n",
    "\n",
    "Step 1: Import the request module\n",
    "Step2: create a dictionary called ‘params’ with the following values. ‘api’=api_key and ‘q’=city_name\n",
    "Step 3: make an HTTP request to the web address. When you do the request, don’t forget to give\n",
    "params as the parameter.\n",
    "Step 4: print the response content\n",
    "\n",
    "Congratulations! You made a successful API call.\n",
    "\n",
    "[optional]: create a python object to represent the incoming weather information."
   ]
  },
  {
   "cell_type": "code",
   "execution_count": 22,
   "id": "7790867c-55e7-4166-ae00-194f30219cb8",
   "metadata": {},
   "outputs": [
    {
     "name": "stdout",
     "output_type": "stream",
     "text": [
      "{'location': {'name': 'Istanbul', 'region': 'Istanbul', 'country': 'Turkey', 'lat': 41.02, 'lon': 28.96, 'tz_id': 'Europe/Istanbul', 'localtime_epoch': 1721912267, 'localtime': '2024-07-25 15:57'}, 'current': {'last_updated_epoch': 1721911500, 'last_updated': '2024-07-25 15:45', 'temp_c': 29.7, 'temp_f': 85.4, 'is_day': 1, 'condition': {'text': 'Sunny', 'icon': '//cdn.weatherapi.com/weather/64x64/day/113.png', 'code': 1000}, 'wind_mph': 16.8, 'wind_kph': 27.0, 'wind_degree': 17, 'wind_dir': 'NNE', 'pressure_mb': 1004.0, 'pressure_in': 29.64, 'precip_mm': 0.0, 'precip_in': 0.0, 'humidity': 45, 'cloud': 10, 'feelslike_c': 30.3, 'feelslike_f': 86.5, 'windchill_c': 29.7, 'windchill_f': 85.4, 'heatindex_c': 30.3, 'heatindex_f': 86.5, 'dewpoint_c': 16.4, 'dewpoint_f': 61.5, 'vis_km': 10.0, 'vis_miles': 6.0, 'uv': 7.0, 'gust_mph': 19.3, 'gust_kph': 31.1}}\n"
     ]
    }
   ],
   "source": [
    "import requests\n",
    "\n",
    "\n",
    "api_key= '010858a3a88847f1a4154131242207'\n",
    "\n",
    "Web_address= \" http://api.weatherapi.com/v1/current.json\"\n",
    "\n",
    "city_name = 'istanbul'\n",
    "\n",
    "params = dict()\n",
    "\n",
    "params = {\n",
    "    'key' : api_key ,\n",
    "    'q' : city_name\n",
    "}\n",
    "\n",
    "variable = requests.get( web_address, params = params)\n",
    "print(variable.json())\n",
    "\n"
   ]
  },
  {
   "cell_type": "markdown",
   "id": "d35c1d10-b458-474d-b7dc-e5449920e8ae",
   "metadata": {},
   "source": [
    "III- Web Scrapping with python\n",
    "In this task, you will scrape all the images on a website. Follow the following steps.\n",
    "Step 1: Search ‘Animals’ on your browser.\n",
    "Step 2: Click on images and you will see pictures.\n",
    "Step 3: copy and paste the link at the top of the browser and give it to your code.\n",
    "Step 4: use the request module to send an HTTP request to the link you copied.\n",
    "Step 5: use the Beautiful Soup Module to search for img tags in the resulting response content\n",
    "Step 6: pull out the link of the image from src of the image and make another HTTP request with\n",
    "the link. [ you may need error handling for any potential error].\n",
    "Step 7: write the content of the response to a file.\n",
    "Congratulation! You have scrapped all the images on a page without manually saving them."
   ]
  },
  {
   "cell_type": "code",
   "execution_count": 44,
   "id": "be8f21a9-c58a-4aa6-97c4-d39a8f7ef20f",
   "metadata": {},
   "outputs": [],
   "source": [
    "from bs4 import BeautifulSoup\n",
    "import os\n",
    "\n",
    "link = \"https://www.bing.com/images/search?q=animals&form=HDRSC3&first=1\"\n",
    "\n",
    "response = requests.get(link)\n",
    "\n",
    "soup =  BeautifulSoup(response.content, 'html.parser')\n",
    "\n",
    "#print(soup.prettify)\n",
    "\n",
    "imgTags = soup.find_all('img')\n",
    "\n",
    "#print(imgTags)\n",
    "\n",
    "imgUrls = []\n",
    "\n",
    "for img in imgTags:\n",
    "    imgUrl = img.get(\"src\")\n",
    "    if imgUrl and 'http' in imgUrl :\n",
    "        imgUrls.append(imgUrl)\n",
    "\n",
    "#print(imgUrls)\n",
    "\n",
    "os.makedirs(\"downloaded_images\")\n",
    "\n",
    "for i, imgUrl in enumerate(imgUrls):\n",
    "    imgResponse = requests.get(imgUrl)\n",
    "\n",
    "    with open(f\"downloaded_images/ image_{i+1}.jpg\", 'wb') as f:\n",
    "        f.write( imgResponse.content)\n"
   ]
  },
  {
   "cell_type": "code",
   "execution_count": null,
   "id": "6673abd3-6498-4127-839e-8ef7a4b36646",
   "metadata": {},
   "outputs": [],
   "source": []
  }
 ],
 "metadata": {
  "kernelspec": {
   "display_name": "Python 3 (ipykernel)",
   "language": "python",
   "name": "python3"
  },
  "language_info": {
   "codemirror_mode": {
    "name": "ipython",
    "version": 3
   },
   "file_extension": ".py",
   "mimetype": "text/x-python",
   "name": "python",
   "nbconvert_exporter": "python",
   "pygments_lexer": "ipython3",
   "version": "3.11.3"
  }
 },
 "nbformat": 4,
 "nbformat_minor": 5
}
